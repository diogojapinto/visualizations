{
 "cells": [
  {
   "cell_type": "markdown",
   "metadata": {},
   "source": [
    "## Dashboard API"
   ]
  },
  {
   "cell_type": "code",
   "execution_count": 48,
   "metadata": {
    "collapsed": true
   },
   "outputs": [],
   "source": [
    "import plotly"
   ]
  },
  {
   "cell_type": "code",
   "execution_count": 72,
   "metadata": {},
   "outputs": [],
   "source": [
    "import plotly.dashboard_objs as dashboard\n",
    "import IPython.display\n",
    "from IPython.display import Image"
   ]
  },
  {
   "cell_type": "code",
   "execution_count": 73,
   "metadata": {
    "collapsed": true
   },
   "outputs": [],
   "source": [
    "my_dboard = dashboard.Dashboard()"
   ]
  },
  {
   "cell_type": "code",
   "execution_count": 99,
   "metadata": {},
   "outputs": [
    {
     "data": {
      "text/html": [
       "\n",
       "<!DOCTYPE HTML>\n",
       "<html>\n",
       "  <head>\n",
       "    <style>\n",
       "      body {\n",
       "        margin: 0px;\n",
       "        padding: 0px;\n",
       "      }\n",
       "    </style>\n",
       "  </head>\n",
       "  <body>\n",
       "    <canvas id=\"myCanvas\" width=\"400\" height=\"400\"></canvas>\n",
       "    <script>\n",
       "      var canvas = document.getElementById('myCanvas');\n",
       "      var context = canvas.getContext('2d');\n",
       "      <!-- Dashboard -->\n",
       "      context.beginPath();\n",
       "      context.rect(0, 0, 400, 400);\n",
       "      context.lineWidth = 2;\n",
       "      context.strokeStyle = 'black';\n",
       "      context.stroke();\n",
       "     <!-- Draw some lines in -->\n",
       "          context.beginPath();\n",
       "          context.rect(0, 200.0, 400, 1);\n",
       "          context.lineWidth = 1;\n",
       "          context.strokeStyle = 'black';\n",
       "          context.stroke();\n",
       "    <!-- Insert box numbers -->\n",
       "          context.font = '10pt Times New Roman';\n",
       "          context.textAlign = 'center';\n",
       "          context.fillText(1, 0 + 0.5*400, 0 + 0.5*200.0);\n",
       "    <!-- Draw some lines in -->\n",
       "          context.beginPath();\n",
       "          context.rect(200.0, 200.0, 1, 200.0);\n",
       "          context.lineWidth = 1;\n",
       "          context.strokeStyle = 'black';\n",
       "          context.stroke();\n",
       "    <!-- Insert box numbers -->\n",
       "          context.font = '10pt Times New Roman';\n",
       "          context.textAlign = 'center';\n",
       "          context.fillText(2, 0 + 0.5*200.0, 200.0 + 0.5*200.0);\n",
       "    <!-- Insert box numbers -->\n",
       "          context.font = '10pt Times New Roman';\n",
       "          context.textAlign = 'center';\n",
       "          context.fillText(3, 200.0 + 0.5*200.0, 200.0 + 0.5*200.0);\n",
       "     </script>\n",
       "  </body>\n",
       "</html>\n"
      ],
      "text/plain": [
       "<IPython.core.display.HTML object>"
      ]
     },
     "execution_count": 99,
     "metadata": {},
     "output_type": "execute_result"
    }
   ],
   "source": [
    "my_dboard.get_preview()"
   ]
  },
  {
   "cell_type": "markdown",
   "metadata": {},
   "source": [
    "### Choose plots"
   ]
  },
  {
   "cell_type": "code",
   "execution_count": 75,
   "metadata": {
    "collapsed": true
   },
   "outputs": [],
   "source": [
    "import plotly.graph_objs as go\n",
    "import plotly.plotly as py"
   ]
  },
  {
   "cell_type": "code",
   "execution_count": 76,
   "metadata": {
    "collapsed": true
   },
   "outputs": [],
   "source": [
    "import numpy as np"
   ]
  },
  {
   "cell_type": "code",
   "execution_count": 77,
   "metadata": {
    "collapsed": true
   },
   "outputs": [],
   "source": [
    "colorscale = [[0, '#FAEE1C'], [0.33, '#F3558E'], [0.66, '#9C1DE7'], [1, '#581B98']]"
   ]
  },
  {
   "cell_type": "code",
   "execution_count": 78,
   "metadata": {
    "collapsed": true
   },
   "outputs": [],
   "source": [
    "trace1 = go.Scatter(\n",
    "    y = np.random.randn(500),\n",
    "    mode = 'markers',\n",
    "    marker = dict(\n",
    "        size='16',\n",
    "        color=  np.random.randn(500),\n",
    "        colorscale=colorscale,\n",
    "        showscale=True\n",
    "    )\n",
    ")"
   ]
  },
  {
   "cell_type": "code",
   "execution_count": 79,
   "metadata": {
    "collapsed": true
   },
   "outputs": [],
   "source": [
    "data = [trace1]"
   ]
  },
  {
   "cell_type": "code",
   "execution_count": 80,
   "metadata": {
    "collapsed": true
   },
   "outputs": [],
   "source": [
    "url_1 = py.plot(data, filename='scatter-for-dashboard', auto_open=False)"
   ]
  },
  {
   "cell_type": "code",
   "execution_count": 81,
   "metadata": {},
   "outputs": [
    {
     "data": {
      "text/html": [
       "<iframe id=\"igraph\" scrolling=\"no\" style=\"border:none;\" seamless=\"seamless\" src=\"https://plot.ly/~diogojapinto/17.embed\" height=\"525px\" width=\"100%\"></iframe>"
      ],
      "text/plain": [
       "<plotly.tools.PlotlyDisplay object>"
      ]
     },
     "execution_count": 81,
     "metadata": {},
     "output_type": "execute_result"
    }
   ],
   "source": [
    "py.iplot(data, filename='scatter-for-dashboard')"
   ]
  },
  {
   "cell_type": "code",
   "execution_count": 82,
   "metadata": {
    "collapsed": true
   },
   "outputs": [],
   "source": [
    "x0 = np.random.randn(50)\n",
    "x1 = np.random.randn(50) + 2\n",
    "x2 = np.random.randn(50) + 4\n",
    "x3 = np.random.randn(50) + 6"
   ]
  },
  {
   "cell_type": "code",
   "execution_count": 83,
   "metadata": {
    "collapsed": true
   },
   "outputs": [],
   "source": [
    "colors = ['#FAEE1C', '#F3558E', '#9C1DE7', '#581B98']"
   ]
  },
  {
   "cell_type": "code",
   "execution_count": 84,
   "metadata": {
    "collapsed": true
   },
   "outputs": [],
   "source": [
    "trace0 = go.Box(x=x0, marker={'color': colors[0]})\n",
    "trace1 = go.Box(x=x1, marker={'color': colors[1]})\n",
    "trace2 = go.Box(x=x2, marker={'color': colors[2]})\n",
    "trace3 = go.Box(x=x3, marker={'color': colors[3]})"
   ]
  },
  {
   "cell_type": "code",
   "execution_count": 85,
   "metadata": {
    "collapsed": true
   },
   "outputs": [],
   "source": [
    "data = [trace0, trace1, trace2, trace3]"
   ]
  },
  {
   "cell_type": "code",
   "execution_count": 86,
   "metadata": {},
   "outputs": [],
   "source": [
    "url_2 = py.plot(data, filename='box-plots-for-dashboard', auto_open=False) # , sharing='secret'"
   ]
  },
  {
   "cell_type": "code",
   "execution_count": 87,
   "metadata": {},
   "outputs": [
    {
     "data": {
      "text/html": [
       "<iframe id=\"igraph\" scrolling=\"no\" style=\"border:none;\" seamless=\"seamless\" src=\"https://plot.ly/~diogojapinto/19.embed\" height=\"525px\" width=\"100%\"></iframe>"
      ],
      "text/plain": [
       "<plotly.tools.PlotlyDisplay object>"
      ]
     },
     "execution_count": 87,
     "metadata": {},
     "output_type": "execute_result"
    }
   ],
   "source": [
    "py.iplot(data, filename='box-plots-for-dashboard')"
   ]
  },
  {
   "cell_type": "code",
   "execution_count": 88,
   "metadata": {
    "collapsed": true
   },
   "outputs": [],
   "source": [
    "def fileId_from_url(url):\n",
    "    \"\"\"Return fileId from a url.\"\"\"\n",
    "    index = url.find('~')\n",
    "    fileId = url[index + 1:]\n",
    "    local_id_index = fileId.find('/')\n",
    "\n",
    "    share_key_index = fileId.find('?share_key')\n",
    "    if share_key_index == -1:\n",
    "        return fileId.replace('/', ':')\n",
    "    else:\n",
    "        return fileId[:share_key_index].replace('/', ':')"
   ]
  },
  {
   "cell_type": "code",
   "execution_count": 89,
   "metadata": {
    "collapsed": true
   },
   "outputs": [],
   "source": [
    "def sharekey_from_url(url):\n",
    "    \"\"\"Return the sharekey from a url.\"\"\"\n",
    "    index = url.find('share_key=')\n",
    "    return url[index + len('share_key='):]"
   ]
  },
  {
   "cell_type": "code",
   "execution_count": 90,
   "metadata": {
    "collapsed": true
   },
   "outputs": [],
   "source": [
    "fileId_1 = fileId_from_url(url_1)\n",
    "fileId_2 = fileId_from_url(url_2)"
   ]
  },
  {
   "cell_type": "code",
   "execution_count": 91,
   "metadata": {
    "collapsed": true
   },
   "outputs": [],
   "source": [
    "box_a = {\n",
    "    'type': 'box',\n",
    "    'boxType': 'plot',\n",
    "    'fileId': fileId_1,\n",
    "    'title': 'scatter-for-dashboard'\n",
    "}"
   ]
  },
  {
   "cell_type": "code",
   "execution_count": 92,
   "metadata": {
    "collapsed": true
   },
   "outputs": [],
   "source": [
    "text_for_box = \"\"\" \n",
    "## Distributions: \n",
    "\n",
    "\n",
    "#### Scatter Plot\n",
    "1. Ranging 0 - 500\n",
    "2. Even distribution\n",
    "\n",
    "#### Box Plot\n",
    "1. Similar Range\n",
    "2. Outliers present in trace 1 and trace 3\n",
    "\n",
    "You can view more markdown tips [here](https://daringfireball.net/projects/markdown/syntax).\n",
    "\"\"\""
   ]
  },
  {
   "cell_type": "code",
   "execution_count": 93,
   "metadata": {
    "collapsed": true
   },
   "outputs": [],
   "source": [
    "box_b = {\n",
    "    'type': 'box',\n",
    "    'boxType': 'text',\n",
    "    'text': text_for_box,\n",
    "    'title': 'Markdown Options for Text Box'\n",
    "}"
   ]
  },
  {
   "cell_type": "code",
   "execution_count": 94,
   "metadata": {
    "collapsed": true
   },
   "outputs": [],
   "source": [
    "box_c = {\n",
    "    'type': 'box',\n",
    "    'boxType': 'plot',\n",
    "    'fileId': fileId_2,\n",
    "    'title': 'box-for-dashboard',\n",
    "    'shareKey': sharekey_from_url(url_2)\n",
    "}"
   ]
  },
  {
   "cell_type": "code",
   "execution_count": 95,
   "metadata": {},
   "outputs": [],
   "source": [
    "my_dboard.insert(box_a)"
   ]
  },
  {
   "cell_type": "code",
   "execution_count": 97,
   "metadata": {
    "collapsed": true
   },
   "outputs": [],
   "source": [
    "my_dboard.insert(box_b, 'above', 1)"
   ]
  },
  {
   "cell_type": "code",
   "execution_count": 98,
   "metadata": {
    "collapsed": true
   },
   "outputs": [],
   "source": [
    "my_dboard.insert(box_c, 'left', 2)"
   ]
  },
  {
   "cell_type": "code",
   "execution_count": 100,
   "metadata": {
    "collapsed": true
   },
   "outputs": [],
   "source": [
    "my_dboard.get_box(1)['title'] = 'a new title'"
   ]
  },
  {
   "cell_type": "code",
   "execution_count": 101,
   "metadata": {
    "collapsed": true
   },
   "outputs": [],
   "source": [
    "my_dboard.swap(2, 3)"
   ]
  },
  {
   "cell_type": "code",
   "execution_count": 102,
   "metadata": {
    "collapsed": true
   },
   "outputs": [],
   "source": [
    "my_dboard.insert(box_a, 'below', 2)"
   ]
  },
  {
   "cell_type": "code",
   "execution_count": 103,
   "metadata": {
    "collapsed": true
   },
   "outputs": [],
   "source": [
    "my_dboard.remove(2)"
   ]
  },
  {
   "cell_type": "code",
   "execution_count": 104,
   "metadata": {
    "collapsed": true
   },
   "outputs": [],
   "source": [
    "my_dboard['settings']['title'] = 'My First Dashboard with Python'"
   ]
  },
  {
   "cell_type": "code",
   "execution_count": 105,
   "metadata": {
    "collapsed": true
   },
   "outputs": [],
   "source": [
    "my_dboard['settings']['logoUrl'] = 'https://images.plot.ly/language-icons/api-home/python-logo.png'"
   ]
  },
  {
   "cell_type": "code",
   "execution_count": 106,
   "metadata": {
    "collapsed": true
   },
   "outputs": [],
   "source": [
    "my_dboard['settings']['links'] = []\n",
    "my_dboard['settings']['links'].append({'title': 'Link to Plotly', 'url': 'https://plot.ly/'})\n",
    "my_dboard['settings']['links'].append({'title': 'Link to Python Website', 'url': 'https://www.python.org/'})"
   ]
  },
  {
   "cell_type": "code",
   "execution_count": 107,
   "metadata": {
    "collapsed": true
   },
   "outputs": [],
   "source": [
    "my_dboard['settings']['foregroundColor'] = '#000000'\n",
    "my_dboard['settings']['backgroundColor'] = '#adcaea'\n",
    "my_dboard['settings']['headerForegroundColor'] = '#ffffff'\n",
    "my_dboard['settings']['headerBackgroundColor'] = '#D232C8'\n",
    "my_dboard['settings']['boxBackgroundColor'] = '#ffffff'\n",
    "my_dboard['settings']['boxBorderColor'] = '#000000'\n",
    "my_dboard['settings']['boxHeaderBackgroundColor'] = '#ffffff'"
   ]
  },
  {
   "cell_type": "code",
   "execution_count": 109,
   "metadata": {},
   "outputs": [
    {
     "ename": "TypeError",
     "evalue": "the JSON object must be str, not 'bytes'",
     "output_type": "error",
     "traceback": [
      "\u001b[1;31m---------------------------------------------------------------------------\u001b[0m",
      "\u001b[1;31mTypeError\u001b[0m                                 Traceback (most recent call last)",
      "\u001b[1;32m<ipython-input-109-80a11d907bf4>\u001b[0m in \u001b[0;36m<module>\u001b[1;34m()\u001b[0m\n\u001b[1;32m----> 1\u001b[1;33m \u001b[0mpy\u001b[0m\u001b[1;33m.\u001b[0m\u001b[0mdashboard_ops\u001b[0m\u001b[1;33m.\u001b[0m\u001b[0mupload\u001b[0m\u001b[1;33m(\u001b[0m\u001b[0mmy_dboard\u001b[0m\u001b[1;33m,\u001b[0m \u001b[1;34m'My First Dashboard with Python'\u001b[0m\u001b[1;33m)\u001b[0m\u001b[1;33m\u001b[0m\u001b[0m\n\u001b[0m",
      "\u001b[1;32mC:\\Users\\diogo\\Anaconda3\\lib\\site-packages\\plotly\\plotly\\plotly.py\u001b[0m in \u001b[0;36mupload\u001b[1;34m(cls, dashboard, filename, sharing, auto_open)\u001b[0m\n\u001b[0;32m   1443\u001b[0m         \u001b[1;32mtry\u001b[0m\u001b[1;33m:\u001b[0m\u001b[1;33m\u001b[0m\u001b[0m\n\u001b[0;32m   1444\u001b[0m             \u001b[0mlookup_res\u001b[0m \u001b[1;33m=\u001b[0m \u001b[0mv2\u001b[0m\u001b[1;33m.\u001b[0m\u001b[0mfiles\u001b[0m\u001b[1;33m.\u001b[0m\u001b[0mlookup\u001b[0m\u001b[1;33m(\u001b[0m\u001b[0mfilename\u001b[0m\u001b[1;33m)\u001b[0m\u001b[1;33m\u001b[0m\u001b[0m\n\u001b[1;32m-> 1445\u001b[1;33m             \u001b[0mmatching_file\u001b[0m \u001b[1;33m=\u001b[0m \u001b[0mjson\u001b[0m\u001b[1;33m.\u001b[0m\u001b[0mloads\u001b[0m\u001b[1;33m(\u001b[0m\u001b[0mlookup_res\u001b[0m\u001b[1;33m.\u001b[0m\u001b[0mcontent\u001b[0m\u001b[1;33m)\u001b[0m\u001b[1;33m\u001b[0m\u001b[0m\n\u001b[0m\u001b[0;32m   1446\u001b[0m \u001b[1;33m\u001b[0m\u001b[0m\n\u001b[0;32m   1447\u001b[0m             \u001b[1;32mif\u001b[0m \u001b[0mmatching_file\u001b[0m\u001b[1;33m[\u001b[0m\u001b[1;34m'filetype'\u001b[0m\u001b[1;33m]\u001b[0m \u001b[1;33m==\u001b[0m \u001b[1;34m'dashboard'\u001b[0m\u001b[1;33m:\u001b[0m\u001b[1;33m\u001b[0m\u001b[0m\n",
      "\u001b[1;32mC:\\Users\\diogo\\Anaconda3\\lib\\json\\__init__.py\u001b[0m in \u001b[0;36mloads\u001b[1;34m(s, encoding, cls, object_hook, parse_float, parse_int, parse_constant, object_pairs_hook, **kw)\u001b[0m\n\u001b[0;32m    310\u001b[0m     \u001b[1;32mif\u001b[0m \u001b[1;32mnot\u001b[0m \u001b[0misinstance\u001b[0m\u001b[1;33m(\u001b[0m\u001b[0ms\u001b[0m\u001b[1;33m,\u001b[0m \u001b[0mstr\u001b[0m\u001b[1;33m)\u001b[0m\u001b[1;33m:\u001b[0m\u001b[1;33m\u001b[0m\u001b[0m\n\u001b[0;32m    311\u001b[0m         raise TypeError('the JSON object must be str, not {!r}'.format(\n\u001b[1;32m--> 312\u001b[1;33m                             s.__class__.__name__))\n\u001b[0m\u001b[0;32m    313\u001b[0m     \u001b[1;32mif\u001b[0m \u001b[0ms\u001b[0m\u001b[1;33m.\u001b[0m\u001b[0mstartswith\u001b[0m\u001b[1;33m(\u001b[0m\u001b[1;34mu'\\ufeff'\u001b[0m\u001b[1;33m)\u001b[0m\u001b[1;33m:\u001b[0m\u001b[1;33m\u001b[0m\u001b[0m\n\u001b[0;32m    314\u001b[0m         raise JSONDecodeError(\"Unexpected UTF-8 BOM (decode using utf-8-sig)\",\n",
      "\u001b[1;31mTypeError\u001b[0m: the JSON object must be str, not 'bytes'"
     ]
    }
   ],
   "source": [
    "py.dashboard_ops.upload(my_dboard, 'My First Dashboard with Python')"
   ]
  },
  {
   "cell_type": "code",
   "execution_count": null,
   "metadata": {
    "collapsed": true
   },
   "outputs": [],
   "source": []
  },
  {
   "cell_type": "code",
   "execution_count": null,
   "metadata": {
    "collapsed": true
   },
   "outputs": [],
   "source": []
  },
  {
   "cell_type": "code",
   "execution_count": null,
   "metadata": {
    "collapsed": true
   },
   "outputs": [],
   "source": []
  }
 ],
 "metadata": {
  "kernelspec": {
   "display_name": "Python [default]",
   "language": "python",
   "name": "python3"
  },
  "language_info": {
   "codemirror_mode": {
    "name": "ipython",
    "version": 3
   },
   "file_extension": ".py",
   "mimetype": "text/x-python",
   "name": "python",
   "nbconvert_exporter": "python",
   "pygments_lexer": "ipython3",
   "version": "3.5.3"
  }
 },
 "nbformat": 4,
 "nbformat_minor": 2
}
